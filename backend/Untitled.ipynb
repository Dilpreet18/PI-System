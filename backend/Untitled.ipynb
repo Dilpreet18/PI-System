{
 "cells": [
  {
   "cell_type": "code",
   "execution_count": 2,
   "id": "04ba2b1f",
   "metadata": {},
   "outputs": [
    {
     "name": "stdout",
     "output_type": "stream",
     "text": [
      "{'rule_7xtt': ['₹41,999', '₹54,900', '₹32,999', '₹47,900', '₹32,999', '₹47,900', '₹43,999', '₹49,900', '₹49,999', '₹54,900', '₹48,699', '₹54,900', '₹43,999', '₹49,900', '₹48,699', '₹59,900', '₹48,699', '₹54,900', '₹41,999', '₹49,900', '₹48,699', '₹54,900', '₹32,999', '₹47,900', '₹70,900', '₹84,900', '₹37,999', '₹52,900', '₹37,999', '₹52,900'], 'rule_584c': ['₹41,999', '₹54,900', '₹32,999', '₹47,900', '₹32,999', '₹47,900', '₹43,999', '₹49,900', '₹49,999', '₹54,900', '₹48,699', '₹54,900', '₹43,999', '₹49,900', '₹48,699', '₹59,900', '₹48,699', '₹54,900', '₹41,999', '₹49,900', '₹48,699', '₹54,900', '₹32,999', '₹47,900', '₹70,900', '₹84,900', '₹37,999', '₹52,900', '₹37,999', '₹52,900'], 'rule_jhuu': ['₹41,999', '₹49,900'], 'rule_gipi': ['₹41,999', '₹49,900'], 'rule_z1ug': ['₹41,999', '₹54,900', '₹32,999', '₹47,900', '₹32,999', '₹47,900', '₹43,999', '₹49,900', '₹49,999', '₹54,900', '₹48,699', '₹54,900', '₹43,999', '₹49,900', '₹48,699', '₹59,900', '₹48,699', '₹54,900', '₹41,999', '₹49,900', '₹48,699', '₹54,900', '₹32,999', '₹47,900', '₹70,900', '₹84,900', '₹37,999', '₹52,900', '₹37,999', '₹52,900'], 'rule_m0xo': ['₹41,999', '₹54,900', '₹32,999', '₹47,900', '₹32,999', '₹47,900', '₹43,999', '₹49,900', '₹49,999', '₹54,900', '₹48,699', '₹54,900', '₹43,999', '₹49,900', '₹48,699', '₹59,900', '₹48,699', '₹54,900', '₹41,999', '₹49,900', '₹48,699', '₹54,900', '₹32,999', '₹47,900', '₹70,900', '₹84,900', '₹37,999', '₹52,900', '₹37,999', '₹52,900'], 'rule_i4y3': ['₹41,999', '₹49,900', '₹79,900'], 'rule_k47v': ['₹41,999', '₹49,900', '₹79,900'], 'rule_qmhr': ['Apple iPhone 11 (64GB) - Black', 'Apple iPhone XR (64GB) - Black', 'Apple iPhone XR (64GB) - White', 'Apple iPhone 11 (64GB) - Green', 'Apple iPhone 11 (128GB) - White', 'Apple iPhone 11 (128GB) - Black', 'Apple iPhone 11 (64GB) - Purple', 'Apple iPhone 11 (128GB) - Green', 'Apple iPhone 11 (128GB) - Purple', 'Apple iPhone 11 (64GB) - (Product) RED', 'Apple iPhone 11 (128GB) - (Product) RED', 'Apple iPhone XR (64GB) - (Product) RED', 'New Apple iPhone 12 (128GB) - Black', 'Apple iPhone XR (128GB) - Black', 'Apple iPhone XR (128GB) - White'], 'rule_pprv': ['Apple iPhone 11 (64GB) - Black', 'Apple iPhone XR (64GB) - Black', 'Apple iPhone XR (64GB) - White', 'Apple iPhone 11 (64GB) - Green', 'Apple iPhone 11 (128GB) - White', 'Apple iPhone 11 (128GB) - Black', 'Apple iPhone 11 (64GB) - Purple', 'Apple iPhone 11 (128GB) - Green', 'Apple iPhone 11 (128GB) - Purple', 'Apple iPhone 11 (64GB) - (Product) RED', 'Apple iPhone 11 (128GB) - (Product) RED', 'Apple iPhone XR (64GB) - (Product) RED', 'New Apple iPhone 12 (128GB) - Black', 'Apple iPhone XR (128GB) - Black', 'Apple iPhone XR (128GB) - White'], 'rule_nqgu': ['Apple iPhone 11 (64GB) - Black', 'Apple iPhone 11 (64GB) - White', 'Apple iPhone 11 (128GB) - Green'], 'rule_nuzj': ['Apple iPhone 11 (64GB) - Black', 'Apple iPhone 11 (64GB) - White', 'Apple iPhone 11 (128GB) - Green']} -------------amazon\n",
      "{'rule_3538': ['₹53,999', '₹53,999', '₹60,199', '₹53,999', '₹53,999', '₹42,099', '₹42,099', '₹42,099', '₹53,999', '₹53,999', '₹48,199', '₹30,099', '₹30,099', '₹30,099', '₹34,999', '₹34,999', '₹34,999', '₹89,900', '₹49,999', '₹89,900', '₹49,999', '₹89,900', '₹49,999', '₹44,999'], 'rule_2r3k': ['APPLE iPhone 12 (White, 64 GB)', 'APPLE iPhone 12 (Blue, 64 GB)', 'APPLE iPhone 12 (Purple, 128 GB)', 'APPLE iPhone 12 (Purple, 64 GB)', 'APPLE iPhone 12 (Green, 64 GB)', 'APPLE iPhone 12 Mini (Black, 64 GB)', 'APPLE iPhone 12 Mini (White, 64 GB)', 'APPLE iPhone 12 Mini (Blue, 64 GB)', 'APPLE iPhone 12 (Black, 64 GB)', 'APPLE iPhone 12 (Red, 64 GB)', 'APPLE iPhone 12 Mini (Black, 128 GB)', 'APPLE iPhone SE (White, 64 GB)', 'APPLE iPhone SE (Black, 64 GB)', 'APPLE iPhone SE (Red, 64 GB)', 'APPLE iPhone SE (White, 128 GB)', 'APPLE iPhone SE (Black, 128 GB)', 'APPLE iPhone SE (Red, 128 GB)', 'APPLE iPhone 13 (Midnight, 256 GB)', 'APPLE iPhone XR ((PRODUCT)RED, 128 GB)', 'APPLE iPhone 13 (Pink, 256 GB)', 'APPLE iPhone XR (White, 128 GB)', 'APPLE iPhone 13 (Starlight, 256 GB)', 'Apple iPhone XR (Yellow, 128 GB) (Includes EarPods, Power Adapter)', 'APPLE iPhone SE (White, 256 GB)'], 'rule_j6vz': ['APPLE iPhone 12 (White, 64 GB)', 'APPLE iPhone 12 (Blue, 64 GB)', 'APPLE iPhone 12 (Purple, 128 GB)', 'APPLE iPhone 12 (Purple, 64 GB)', 'APPLE iPhone 12 (Green, 64 GB)', 'APPLE iPhone 12 Mini (Black, 64 GB)', 'APPLE iPhone 12 Mini (White, 64 GB)', 'APPLE iPhone 12 Mini (Blue, 64 GB)', 'APPLE iPhone 12 (Black, 64 GB)', 'APPLE iPhone 12 (Red, 64 GB)', 'APPLE iPhone 12 Mini (Black, 128 GB)', 'APPLE iPhone SE (White, 64 GB)', 'APPLE iPhone SE (Black, 64 GB)', 'APPLE iPhone SE (Red, 64 GB)', 'APPLE iPhone SE (White, 128 GB)', 'APPLE iPhone SE (Black, 128 GB)', 'APPLE iPhone SE (Red, 128 GB)', 'APPLE iPhone 13 (Midnight, 256 GB)', 'APPLE iPhone XR ((PRODUCT)RED, 128 GB)', 'APPLE iPhone 13 (Pink, 256 GB)', 'APPLE iPhone XR (White, 128 GB)', 'APPLE iPhone 13 (Starlight, 256 GB)', 'Apple iPhone XR (Yellow, 128 GB) (Includes EarPods, Power Adapter)', 'APPLE iPhone SE (White, 256 GB)']} ------------flipkart\n"
     ]
    }
   ],
   "source": [
    "from autoscraper import AutoScraper\n",
    "amazon_url = \"https://www.amazon.in/s?k=iphone\"\n",
    "flipkart_url = 'https://www.flipkart.com/search?q=iphone'\n",
    "\n",
    "amazon_wanted_list = [\"₹41,999\", \"Apple iPhone 11 (64GB) - Black\"]\n",
    "flipkart_wanted_list = [\"₹60,199\", \"APPLE iPhone 12 (Purple, 128 GB)\"]\n",
    "\n",
    "amazon_scraper = AutoScraper()\n",
    "amazon_result = amazon_scraper.build(amazon_url, amazon_wanted_list)\n",
    "print(amazon_scraper.get_result_similar(amazon_url, grouped=True),'-------------amazon')\n",
    "\n",
    "flipkart_scraper = AutoScraper()\n",
    "flipkart_result = flipkart_scraper.build(flipkart_url, flipkart_wanted_list)\n",
    "print(flipkart_scraper.get_result_similar(flipkart_url, grouped=True),'------------flipkart')"
   ]
  },
  {
   "cell_type": "code",
   "execution_count": 3,
   "id": "7a21416e",
   "metadata": {},
   "outputs": [],
   "source": [
    "amazon_scraper.set_rule_aliases({'rule_pprv': 'Title', 'rule_7xtt': 'price'})\n",
    "amazon_scraper.keep_rules(['rule_pprv', 'rule_7xtt'])\n",
    "amazon_scraper.save('amazonData1')\n",
    "\n",
    "flipkart_scraper.set_rule_aliases({'rule_2r3k': 'Title', 'rule_3538': 'price'})\n",
    "flipkart_scraper.keep_rules(['rule_2r3k', 'rule_3538'])\n",
    "flipkart_scraper.save('flipkart')"
   ]
  },
  {
   "cell_type": "code",
   "execution_count": null,
   "id": "6e8f5926",
   "metadata": {},
   "outputs": [],
   "source": []
  }
 ],
 "metadata": {
  "kernelspec": {
   "display_name": "Python 3 (ipykernel)",
   "language": "python",
   "name": "python3"
  },
  "language_info": {
   "codemirror_mode": {
    "name": "ipython",
    "version": 3
   },
   "file_extension": ".py",
   "mimetype": "text/x-python",
   "name": "python",
   "nbconvert_exporter": "python",
   "pygments_lexer": "ipython3",
   "version": "3.9.6"
  }
 },
 "nbformat": 4,
 "nbformat_minor": 5
}
